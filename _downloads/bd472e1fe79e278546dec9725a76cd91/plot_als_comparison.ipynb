{
  "cells": [
    {
      "cell_type": "markdown",
      "metadata": {},
      "source": [
        "\n# Use parametric statistics for group comparison\n\nAs a contrast to the approach presented in other examples, we also present a\nmore \"standard\" statistical approach to analyze tract profile data. Here, we\nwill conduct a point-by-point group comparison using a linear model fit using\nthe standard ordinary least squares (OLS) method.\n\nThis example first fetches the ALS classification dataset from Sarica et al\n[1]_. This dataset contains tractometry features from 24 patients with ALS and\n24 demographically matched control subjects. It then uses the statsmodels\nlibrary to compare between the tract profiles of the two groups in one\ntract (the left corticospinal tract) and in one feature (FA).\n\n.. [1]  Alessia Sarica, et al. \"The Corticospinal Tract Profile in\n   AmyotrophicLateral Sclerosis\" Human Brain Mapping, vol. 38, pp. 727-739, 2017\n   DOI: 10.1002/hbm.23412\n"
      ]
    },
    {
      "cell_type": "code",
      "execution_count": null,
      "metadata": {
        "collapsed": false
      },
      "outputs": [],
      "source": [
        "import matplotlib.pyplot as plt\n\nfrom afqinsight import AFQDataset\nfrom afqinsight.parametric import node_wise_regression\nfrom afqinsight.plot import plot_regression_profiles"
      ]
    },
    {
      "cell_type": "markdown",
      "metadata": {},
      "source": [
        "## Fetch data from Sarica et al.\nAs a shortcut, we have incorporated a few studies into the software. In these\ncases, a :class:`AFQDataset` class instance can be initialized using the\n:func:`AFQDataset.from_study` static method. This expects the name of one of\nthe studies that are supported (see the method documentation for the list of\nthese studies). By passing `\"sarica\"`, we request that the software download\nthe data from this study and initialize an object for us from this data.\n\n"
      ]
    },
    {
      "cell_type": "code",
      "execution_count": null,
      "metadata": {
        "collapsed": false
      },
      "outputs": [],
      "source": [
        "afqdata = AFQDataset.from_study(\"sarica\")\n\n# Specify the tracts of interest\n# ------------------------------\n# Many times we have a specific set of tracts we want to analyze. We can specify\n# those tracts using a list with each tract of interest\n\ntracts = [\"Left Arcuate\", \"Right Arcuate\", \"Left Corticospinal\", \"Right Corticospinal\"]\n\n# Set up plot, run linear models, and show the results\n# ----------------------------------------------------\n# With the next few lines of code, we fit a linear model in order to predict\n# group differences in the diffusion properties of our tracts of interest. The\n# function `node_wise_regression` does this by looping through each node of a\n# tract and predicting our diffusion metric, in this case FA, as a function of\n# group. The initializer `OLS.from_formula` takes `R-style formulas\n# <https://www.statsmodels.org/dev/example_formulas.html>`_ as its model specification.\n# Here, we are using the `\"group\"` variable as a categorical variable in the model.\n# We can also specify linear-mixed effects models for more complex phenotypic data\n# by passing in the appropriate model formula and setting `lme=True`.\n#\n# Because we conducted 100 comparisons, we need to correct the p-values that\n# we obtained for the potential for a false discovery. There are multiple\n# ways to conduct multiple comparison correction, and we will not get into\n# the considerations in selecting a method here. The function `node_wise_regression`\n# uses Benjamini/Hochberg FDR controlling method. This returns a boolean array for\n# the p-values that are rejected at a specified alpha level (after correction),\n# as well as an array of the corrected p-values.\n\nnum_cols = 2\n\n# Define the figure and grid\nfig, axes = plt.subplots(nrows=2, ncols=num_cols, figsize=(10, 6))\n\n\n# Loop through the data and generate plots\nfor i, tract in enumerate(tracts):\n    # fit node-wise regression for each tract based on model formula\n    tract_dict = node_wise_regression(afqdata, tract, \"fa\", \"fa ~ C(group)\")\n\n    row = i // num_cols\n    col = i % num_cols\n\n    axes[row][col].set_title(tract)\n\n    # Visualize\n    # ----------\n    # We can visualize the results with the `plot_regression_profiles`\n    # function. Each subplot shows the tract profiles of the two groups,\n    # while controlling for any covariates, with stars indicating the nodes\n    # at which the null hypothesis is rejected.\n\n    plot_regression_profiles(tract_dict, axes[row][col])\n\n# Adjust layout to prevent overlap\nplt.tight_layout()\n\n# Show the plot\nplt.show()"
      ]
    }
  ],
  "metadata": {
    "kernelspec": {
      "display_name": "Python 3",
      "language": "python",
      "name": "python3"
    },
    "language_info": {
      "codemirror_mode": {
        "name": "ipython",
        "version": 3
      },
      "file_extension": ".py",
      "mimetype": "text/x-python",
      "name": "python",
      "nbconvert_exporter": "python",
      "pygments_lexer": "ipython3",
      "version": "3.12.8"
    }
  },
  "nbformat": 4,
  "nbformat_minor": 0
}