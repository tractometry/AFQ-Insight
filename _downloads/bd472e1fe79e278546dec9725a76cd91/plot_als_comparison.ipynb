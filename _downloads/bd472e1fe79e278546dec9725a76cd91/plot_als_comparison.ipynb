{
  "cells": [
    {
      "cell_type": "markdown",
      "metadata": {},
      "source": [
        "\n# Use parametric statistics for group comparison\n\nAs a contrast to the approach presented in other examples, we also present a\nmore \"standard\" statistical approach to analyze tract profile data. Here, we\nwill conduct a point-by-point group comparison using a linear model fit using\nthe standard ordinary least squares (OLS) method.\n\nThis example first fetches the ALS classification dataset from Sarica et al\n[1]_. This dataset contains tractometry features from 24 patients with ALS and\n24 demographically matched control subjects. It then uses the statsmodels\nlibrary to compare between the tract profiles of the two groups in one\ntract (the left corticospinal tract) and in one feature (FA).\n\n.. [1]  Alessia Sarica, et al. \"The Corticospinal Tract Profile in\n   AmyotrophicLateral Sclerosis\" Human Brain Mapping, vol. 38, pp. 727-739, 2017\n   DOI: 10.1002/hbm.23412\n"
      ]
    },
    {
      "cell_type": "code",
      "execution_count": null,
      "metadata": {
        "collapsed": false
      },
      "outputs": [],
      "source": [
        "import matplotlib.pyplot as plt\nimport numpy as np\nimport pandas as pd\nfrom sklearn.impute import SimpleImputer\nfrom statsmodels.api import OLS\nfrom statsmodels.stats.anova import anova_lm\nfrom statsmodels.stats.multitest import multipletests\n\nfrom afqinsight import AFQDataset"
      ]
    },
    {
      "cell_type": "markdown",
      "metadata": {},
      "source": [
        "## Fetch data from Sarica et al.\nAs a shortcut, we have incorporated a few studies into the software. In these\ncases, a :class:`AFQDataset` class instance can be initialized using the\n:func:`AFQDataset.from_study` static method. This expects the name of one of\nthe studies that are supported (see the method documentation for the list of\nthese studies). By passing `\"sarica\"`, we request that the software download\nthe data from this study and initialize an object for us from this data.\n\n"
      ]
    },
    {
      "cell_type": "code",
      "execution_count": null,
      "metadata": {
        "collapsed": false
      },
      "outputs": [],
      "source": [
        "afqdata = AFQDataset.from_study(\"sarica\")\n\n# Examine the data\n# ----------------\n# ``afqdata`` is an ``AFQDataset`` object, with properties corresponding to the\n# tractometry features and phenotypic targets. In this case, y includes only the\n# group to which the subjects belong, encoded as 0 (patients) or 1 (controls).\n\nX = afqdata.X\ny = afqdata.y\ngroups = afqdata.groups\nfeature_names = afqdata.feature_names\ngroup_names = afqdata.group_names\nsubjects = afqdata.subjects\n\nX = SimpleImputer(strategy=\"median\").fit_transform(X)\n\n# Filtering the data\n# ----------------\n# We start by filtering the data down to only the FA estimates in the left\n# corticospinal tract. We can do that by creating a Pandas dataframe and then\n# using the column labels that `afqdataset` has generated from the data.\n\ndata = pd.DataFrame(columns=afqdata.feature_names, data=X)\nlcst_fa = data.filter(like=\"Left Corticospinal\").filter(like=\"fa\")\n\npvals = np.zeros(lcst_fa.shape[-1])\ncoefs = np.zeros(lcst_fa.shape[-1])\ncis = np.zeros((lcst_fa.shape[-1], 2))\n\n# Fit models\n# ----------------\n# Next, we fit a model for each node of the CST for the FA as a function of\n# group. The initializer `OLS.from_formula` takes\n# `R-style formulas <https://www.statsmodels.org/dev/example_formulas.html>`_\n# as its model specification. Here, we are using the `\"group\"` variable as a\n# categorical variable in the model. Much more complex linear models (including\n# linear mixed effects model) are possible for datasets with more complex\n# phenotypical data.\n\nfor ii, column in enumerate(lcst_fa.columns):\n    feature, node, tract = column\n    this = pd.DataFrame({\"group\": y, feature: lcst_fa[column]})\n    model = OLS.from_formula(f\"{feature} ~ C(group)\", this)\n    fit = model.fit()\n    coefs[ii] = fit.params.loc[\"C(group)[T.1]\"]\n    cis[ii] = fit.conf_int(alpha=0.05).loc[\"C(group)[T.1]\"].values\n    pvals[ii] = anova_lm(fit, typ=2)[\"PR(>F)\"][0]\n\n# Correct for multiple comparison\n# --------------------------------\n# Because we conducted 100 comparisons, we need to correct the p-values that\n# we obtained for the potential for a false discovery. There are multiple\n# ways to conduct multiple comparison correction, and we will not get into\n# the considerations in selecting a method here. For the example, we chose the\n# Benjamini/Hochberg FDR controlling method. This returns a boolean array for\n# the p-values that are rejected at a specified alpha level (after correction),\n# as well as an array of the corrected p-values.\n\nreject, pval_corrected, _, _ = multipletests(pvals, alpha=0.05, method=\"fdr_bh\")\nreject_idx = np.where(reject)\n\n# Visualize\n# ----------\n# Using Matplotlib, we can visualize the results. The top figure shows the tract\n# profiles of the two groups, with stars indicating the nodes at which the null\n# hypothesis is rejected. The bottom figure shows the model coefficients\n# together with their estimated 95% confidence interval.\n\nfig, ax = plt.subplots(2, 1)\nax[0].plot(np.mean(lcst_fa.iloc[afqdata.y == 0], 0).values)\nax[0].plot(np.mean(lcst_fa.iloc[afqdata.y == 1], 0).values)\nax[0].plot(reject_idx, np.zeros(len(reject_idx)), \"k*\")\n\nax[1].plot(coefs)\nax[1].fill_between(range(100), cis[:, 0], cis[:, 1], alpha=0.5)\nax[1].plot(range(100), np.zeros(100), \"k--\")"
      ]
    }
  ],
  "metadata": {
    "kernelspec": {
      "display_name": "Python 3",
      "language": "python",
      "name": "python3"
    },
    "language_info": {
      "codemirror_mode": {
        "name": "ipython",
        "version": 3
      },
      "file_extension": ".py",
      "mimetype": "text/x-python",
      "name": "python",
      "nbconvert_exporter": "python",
      "pygments_lexer": "ipython3",
      "version": "3.11.9"
    }
  },
  "nbformat": 4,
  "nbformat_minor": 0
}